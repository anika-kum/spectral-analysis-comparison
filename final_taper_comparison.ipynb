{
 "cells": [
  {
   "cell_type": "code",
   "execution_count": 90,
   "id": "dd7e898c",
   "metadata": {},
   "outputs": [],
   "source": [
    "# Imports\n",
    "import scipy\n",
    "from scipy.signal import windows, welch\n",
    "from scipy.signal.windows import dpss\n",
    "from scipy.fft import fft, fftfreq\n",
    "import numpy as np\n",
    "import math\n",
    "import matplotlib.pyplot as plt\n",
    "from spectral_decomposition import spectrum\n",
    "import scipy.stats as stats\n",
    "import statsmodels.api as sm\n",
    "import pandas as pd\n",
    "import seaborn as sns"
   ]
  },
  {
   "cell_type": "markdown",
   "id": "d0111ffd",
   "metadata": {},
   "source": [
    "# Generating Data"
   ]
  },
  {
   "cell_type": "code",
   "execution_count": 91,
   "id": "007dffbb",
   "metadata": {},
   "outputs": [],
   "source": [
    "def generate_data(random_state = 42):\n",
    "    data = spectrum(\n",
    "        sampling_rate=1000,\n",
    "        duration=30,\n",
    "        aperiodic_exponent=2.0,\n",
    "        aperiodic_offset=2.0,\n",
    "        knee=200,\n",
    "        peaks=[{'freq':12, 'amplitude': 1.0, 'sigma': 2.0}],\n",
    "        average_firing_rate=0.0,\n",
    "        random_state=random_state,\n",
    "        direct_estimate=True\n",
    "    )\n",
    "    return data\n",
    "\n",
    "data = generate_data()\n",
    "data_td = data.time_domain.combined_signal\n",
    "data_fd = data.frequency_domain"
   ]
  },
  {
   "cell_type": "markdown",
   "id": "b7200813",
   "metadata": {},
   "source": [
    "# Single Taper (Welch)"
   ]
  },
  {
   "cell_type": "code",
   "execution_count": 92,
   "id": "7ed98391",
   "metadata": {},
   "outputs": [],
   "source": [
    "def single_taper_welch(signal, window_length, taper_shape, fs=1000):\n",
    "    \"\"\"\n",
    "    Args: \n",
    "    - signal: signal, time domain \n",
    "    - window_length: in seconds\n",
    "    - taper_shape: string, desired taper\n",
    "    - fs: sampling frequency, default = 1000\n",
    "\n",
    "    Returns:\n",
    "    - freqs: positive frequencies\n",
    "    - psd: estimated power spectral density for positive frequencies (doubled)\n",
    "    \"\"\"\n",
    "    nperseg = int(window_length * fs) # number of samples per segment\n",
    "\n",
    "    freqs, psd = welch(signal,\n",
    "                       fs=fs,\n",
    "                       window=taper_shape,\n",
    "                       nperseg=nperseg,\n",
    "                       noverlap=0,\n",
    "                       scaling='density' # return psd\n",
    "                       )\n",
    "\n",
    "    return freqs, psd"
   ]
  },
  {
   "cell_type": "markdown",
   "id": "fda5c4d9",
   "metadata": {},
   "source": [
    "# Single Taper (No Welch)"
   ]
  },
  {
   "cell_type": "code",
   "execution_count": null,
   "id": "37601797",
   "metadata": {},
   "outputs": [],
   "source": [
    "# def u_scaling(fft_result_single, taper_shape, N): # https://www.mathworks.com/help/signal/ug/nonparametric-methods.html#f12-16152 \n",
    "#     # Scale the FFT results for single taper\n",
    "#     window = windows.get_window(taper_shape, N)\n",
    "#     U = 1/N * sum(i**2 for i in window)\n",
    "#     scaled_fft_single = [i/U for i in np.abs(fft_result_single)]\n",
    "#     return scaled_fft_single\n",
    "\n",
    "def single_taper_no_welch(signal, window_length, taper_shape, fs=1000):\n",
    "    \"\"\"\n",
    "    Args: \n",
    "    - signal: signal, time domain \n",
    "    - window_length: in seconds\n",
    "    - taper_shape: string, desired taper\n",
    "    - fs: sampling frequency, default = 1000\n",
    "\n",
    "    Returns:\n",
    "    - freqs: positive frequencies\n",
    "    - psd: estimated power spectral density for positive frequencies (doubled)\n",
    "    \"\"\"\n",
    "    \n",
    "    N = int(window_length * fs)  # number of samples in window\n",
    "    x = signal[-N:] # retrive last chunk\n",
    "    window = windows.get_window(taper_shape, N)\n",
    "    U = (1/N) * np.sum(window ** 2)\n",
    "\n",
    "    tapered = x * window\n",
    "    fft_result = np.fft.rfft(tapered) # rfft only returns nonnegative frequencies\n",
    "    psd = fft_result / (fs * N * U)\n",
    "\n",
    "    freqs = np.fft.rfftfreq(N, d=1/fs)\n",
    "\n",
    "    # drop nyquist if present; only true if N is even\n",
    "    if freqs[-1] == fs / 2:\n",
    "        freqs = freqs[:-1]\n",
    "        psd = psd[:-1]\n",
    "\n",
    "    return freqs, psd\n"
   ]
  },
  {
   "cell_type": "markdown",
   "id": "fd269280",
   "metadata": {},
   "source": [
    "# Multitaper"
   ]
  },
  {
   "cell_type": "code",
   "execution_count": 94,
   "id": "823180c3",
   "metadata": {},
   "outputs": [],
   "source": [
    "def multitaper(signal, window_length, fs=1000, TW=1, K=1): # only TW and Window length\n",
    "    \"\"\"\n",
    "    Args: \n",
    "    - signal: time domain \n",
    "    - window_length: size of window (in s)\n",
    "    - fs: sampling frequency, default = 1000\n",
    "    - TW: time bandwidth, default = 1\n",
    "    - K: number of tapers, default = 1\n",
    "\n",
    "    Returns:\n",
    "    - freqs: positive frequencies\n",
    "    - psd: estimated power spectral density for positive frequencies (doubled)\n",
    "    \"\"\"\n",
    "\n",
    "    N = int(window_length * fs)  # number of samples in window\n",
    "    signal = signal[0:N] # first window segment of signal\n",
    "\n",
    "    # default to 2*NW - 1 tapers\n",
    "    K = K or int(2 * TW - 1)\n",
    "\n",
    "    # create dpss tapers\n",
    "    tapers = dpss(N, TW, K)  # shape: (K, N)\n",
    "\n",
    "    # Apply each taper to the signals\n",
    "    \n",
    "    tapered_signals = np.array(\n",
    "        [np.abs(fft(signal * taper)) ** 2 / (fs * N * (1/N * np.sum(tapers ** 2))) for taper in tapers] \n",
    "    )  # Convert to power  1 / (fs * N) * |FFT|^2 and divide by Welch normalization factor U = 1/L * Σ w(n)^2\n",
    "\n",
    "    fft_sum = np.sum(tapered_signals, axis=0) # summed PSD across taper\n",
    "\n",
    "    psd = fft_sum / K  # Average PSD\n",
    "    freqs = fftfreq(N, d=1/fs)\n",
    "\n",
    "    return freqs[freqs >= 0], 2*psd[freqs >= 0] # only want positive frequencies"
   ]
  },
  {
   "cell_type": "markdown",
   "id": "5b7aefa0",
   "metadata": {},
   "source": [
    "# Example Run"
   ]
  },
  {
   "cell_type": "code",
   "execution_count": 95,
   "id": "3aa8b18b",
   "metadata": {},
   "outputs": [
    {
     "ename": "NameError",
     "evalue": "name 'x' is not defined",
     "output_type": "error",
     "traceback": [
      "\u001b[31m---------------------------------------------------------------------------\u001b[39m",
      "\u001b[31mNameError\u001b[39m                                 Traceback (most recent call last)",
      "\u001b[36mCell\u001b[39m\u001b[36m \u001b[39m\u001b[32mIn[95]\u001b[39m\u001b[32m, line 3\u001b[39m\n\u001b[32m      1\u001b[39m window_length = \u001b[32m0.1\u001b[39m \u001b[38;5;66;03m# change window length\u001b[39;00m\n\u001b[32m----> \u001b[39m\u001b[32m3\u001b[39m freq_hann, psd_hann = \u001b[43msingle_taper_no_welch\u001b[49m\u001b[43m(\u001b[49m\u001b[43mdata_td\u001b[49m\u001b[43m,\u001b[49m\u001b[43m \u001b[49m\u001b[43mwindow_length\u001b[49m\u001b[43m=\u001b[49m\u001b[43mwindow_length\u001b[49m\u001b[43m,\u001b[49m\u001b[43m \u001b[49m\u001b[43mtaper_shape\u001b[49m\u001b[43m=\u001b[49m\u001b[33;43m'\u001b[39;49m\u001b[33;43mhann\u001b[39;49m\u001b[33;43m'\u001b[39;49m\u001b[43m)\u001b[49m\n\u001b[32m      4\u001b[39m freq_hamming, psd_hamming = single_taper_no_welch(data_td, window_length=window_length, taper_shape=\u001b[33m'\u001b[39m\u001b[33mhamming\u001b[39m\u001b[33m'\u001b[39m)\n\u001b[32m      5\u001b[39m freq_mt, psd_mt = multitaper(data_td, window_length=window_length, TW=\u001b[32m2\u001b[39m)\n",
      "\u001b[36mCell\u001b[39m\u001b[36m \u001b[39m\u001b[32mIn[93]\u001b[39m\u001b[32m, line 26\u001b[39m, in \u001b[36msingle_taper_no_welch\u001b[39m\u001b[34m(signal, window_length, taper_shape, fs)\u001b[39m\n\u001b[32m     23\u001b[39m window = windows.get_window(taper_shape, N)\n\u001b[32m     24\u001b[39m U = (\u001b[32m1\u001b[39m/N) * np.sum(window ** \u001b[32m2\u001b[39m)\n\u001b[32m---> \u001b[39m\u001b[32m26\u001b[39m tapered = \u001b[43mx\u001b[49m * window\n\u001b[32m     27\u001b[39m fft_result = np.fft.rfft(tapered) \u001b[38;5;66;03m# rfft only returns nonnegative frequencies\u001b[39;00m\n\u001b[32m     28\u001b[39m psd = fft_result / (fs * N * U)\n",
      "\u001b[31mNameError\u001b[39m: name 'x' is not defined"
     ]
    }
   ],
   "source": [
    "window_length = 0.1 # change window length\n",
    "\n",
    "freq_hann, psd_hann = single_taper_no_welch(data_td, window_length=window_length, taper_shape='hann')\n",
    "freq_hamming, psd_hamming = single_taper_no_welch(data_td, window_length=window_length, taper_shape='hamming')\n",
    "freq_mt, psd_mt = multitaper(data_td, window_length=window_length, TW=2)\n",
    "\n",
    "plt.loglog(freq_hann, psd_hann, linewidth=1, alpha=0.7, label='hann')\n",
    "plt.loglog(freq_hamming, psd_hamming, linewidth=1, alpha=0.7, label='hamming')\n",
    "plt.loglog(freq_mt, psd_mt, linewidth=1, alpha=0.7, label='multitaper (scaled)')\n",
    "plt.plot(data_fd.frequencies, data_fd.combined_spectrum, linewidth=1, alpha=0.7, label='theoretical')\n",
    "\n",
    "plt.axvline(x=12, color='gray', linestyle=':', linewidth=1.5)\n",
    "plt.text(13, 0.01,'12 Hz')\n",
    "\n",
    "plt.xlabel('Frequency (Hz)')\n",
    "plt.ylabel('Power Spectral Density')\n",
    "plt.legend()\n",
    "plt.show()"
   ]
  },
  {
   "cell_type": "markdown",
   "id": "a84b7d7b",
   "metadata": {},
   "source": [
    "# Bias"
   ]
  },
  {
   "cell_type": "code",
   "execution_count": null,
   "id": "f54ca5cb",
   "metadata": {},
   "outputs": [],
   "source": [
    "# Calculate Bias\n",
    "\n",
    "def calc_mean_bias(empiricalPSD, theoreticalPSD):\n",
    "    N = len(theoreticalPSD)\n",
    "    empiricalPSD = empiricalPSD[:-1] if (len(empiricalPSD) > N) else empiricalPSD\n",
    "    biases = np.abs(empiricalPSD - theoreticalPSD) # do we need to change this cuz the empirical length is 251 while theoretical length is 250\n",
    "    meanBias = np.sum(biases)/N\n",
    "\n",
    "    return meanBias"
   ]
  },
  {
   "cell_type": "code",
   "execution_count": null,
   "id": "860fd287",
   "metadata": {},
   "outputs": [],
   "source": [
    "# def get_correct_theoretical_window(psd_theoretical_fd, freq_theoretical_fd, freq_empirical):\n",
    "#     psd_theoretical_correct_window = np.empty(len(freq_empirical))\n",
    "#     for i, freq in enumerate(freq_empirical):\n",
    "#         matches = np.where(np.isclose(freq_theoretical_fd, freq, atol=1e-8))[0]\n",
    "#         if matches.size > 0:\n",
    "#             psd_theoretical_correct_window[i] = psd_theoretical_fd[matches[0]]\n",
    "#         else:\n",
    "#             psd_theoretical_correct_window[i] = np.nan  # TODO: find a better solution if no match\n",
    "#             # I don't think this else should ever occur though.\n",
    "#     return psd_theoretical_correct_window\n",
    "def get_correct_theoretical_window(psd_theoretical_fd, freq_theoretical_fd, freq_empirical):\n",
    "    \"\"\"\n",
    "    Interpolates theoretical PSD onto empirical frequency axis.\n",
    "    \"\"\"\n",
    "    from scipy.interpolate import interp1d\n",
    "    interpolator = interp1d(freq_theoretical_fd, psd_theoretical_fd, bounds_error=False, fill_value=np.nan)\n",
    "    return interpolator(freq_empirical)"
   ]
  },
  {
   "cell_type": "code",
   "execution_count": null,
   "id": "1da73155",
   "metadata": {},
   "outputs": [],
   "source": [
    "window_length = 20\n",
    "TW = 2\n",
    "\n",
    "df = pd.DataFrame(columns=['hamming_mean_bias', 'hann_mean_bias', 'multitaper_mean_bias'])\n",
    "# compare with scipy periodogram and spectral connectivity multitaper\n",
    "for random_state in range(100): # generate data multiple times\n",
    "\n",
    "    data = generate_data(random_state=random_state)\n",
    "    data_td = data.time_domain.combined_signal\n",
    "    data_fd = data.frequency_domain\n",
    "    \n",
    "    freq_hann, psd_hann = single_taper_no_welch(data_td, window_length=window_length, taper_shape='hann')\n",
    "    freq_hamming, psd_hamming = single_taper_no_welch(data_td, window_length=window_length, taper_shape='hamming')\n",
    "    freq_mt, psd_mt = multitaper(data_td, window_length=window_length, TW=4)\n",
    "\n",
    "    psd_theoretical_correct_window = get_correct_theoretical_window(data_fd.combined_spectrum, data_fd.frequencies, psd_hamming)\n",
    "    df.loc[len(df)] = [calc_mean_bias(psd_hamming, psd_theoretical_correct_window),\n",
    "                       calc_mean_bias(psd_hann, psd_theoretical_correct_window), \n",
    "                       calc_mean_bias(psd_mt, psd_theoretical_correct_window)]"
   ]
  },
  {
   "cell_type": "code",
   "execution_count": null,
   "id": "0403eccd",
   "metadata": {},
   "outputs": [
    {
     "data": {
      "image/png": "[encoded data removed]",
      "text/plain": [
       "<Figure size 640x480 with 1 Axes>"
      ]
     },
     "metadata": {},
     "output_type": "display_data"
    }
   ],
   "source": [
    "plt.title(f\"Bias by Taper Method, Window Length = {window_length} (No Welch)\")\n",
    "sns.violinplot(data=df, linewidth=1.5)\n",
    "plt.savefig(f'{window_length}s_multitaper_{TW*2-1}_singletaper_no_welch_bias.png')"
   ]
  },
  {
   "cell_type": "markdown",
   "id": "72698e88",
   "metadata": {},
   "source": [
    "# Making This More Generalized..."
   ]
  },
  {
   "cell_type": "code",
   "execution_count": null,
   "id": "c2e72bbf",
   "metadata": {},
   "outputs": [],
   "source": [
    "# window_length_options = [0.1, 0.5, 20] # seconds\n",
    "# TW_options = [1, 2, 4] # time-bandwidth products\n",
    "\n",
    "# for window_length in window_length_options:\n",
    "#     for TW in TW_options:\n",
    "#         fig, ax = plt.subplots(figsize=(10, 6))\n",
    "#         df = pd.DataFrame(columns=['hamming_mean_bias', 'hann_mean_bias', 'multitaper_mean_bias'])\n",
    "#         for random_state in range(100): # generate data multiple times\n",
    "\n",
    "#             data = generate_data(random_state=random_state)\n",
    "#             data_td = data.time_domain.combined_signal\n",
    "#             data_fd = data.frequency_domain\n",
    "            \n",
    "#             freq_hann, psd_hann = single_taper_no_welch(data_td, window_length=window_length, taper_shape='hann')\n",
    "#             freq_hamming, psd_hamming = single_taper_no_welch(data_td, window_length=window_length, taper_shape='hamming')\n",
    "#             freq_mt, psd_mt = multitaper(data_td, window_length=window_length, TW=TW)\n",
    "\n",
    "#             psd_theoretical_correct_window = get_correct_theoretical_window(data_fd.combined_spectrum, data_fd.frequencies, psd_hamming)\n",
    "#             df.loc[len(df)] = [calc_mean_bias(psd_hamming, psd_theoretical_correct_window),\n",
    "#                             calc_mean_bias(psd_hann, psd_theoretical_correct_window), \n",
    "#                             calc_mean_bias(psd_mt, psd_theoretical_correct_window)]\n",
    "#         plt.title(f\"Bias by Taper Method, Window Length = {window_length}, Number of tapers = {TW*2-1} (No Welch)\")\n",
    "#         sns.violinplot(data=df, linewidth=1.5)\n",
    "#         plt.savefig(f'{window_length}s_multitaper_{TW*2-1}_singletaper_no_welch_bias.png')\n",
    "#         plt.close(fig) "
   ]
  }
 ],
 "metadata": {
  "kernelspec": {
   "display_name": "spectral-decomposition",
   "language": "python",
   "name": "python3"
  },
  "language_info": {
   "codemirror_mode": {
    "name": "ipython",
    "version": 3
   },
   "file_extension": ".py",
   "mimetype": "text/x-python",
   "name": "python",
   "nbconvert_exporter": "python",
   "pygments_lexer": "ipython3",
   "version": "3.13.5"
  }
 },
 "nbformat": 4,
 "nbformat_minor": 5
}
