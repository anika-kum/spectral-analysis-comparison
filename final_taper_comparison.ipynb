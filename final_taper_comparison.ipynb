{
 "cells": [
  {
   "cell_type": "code",
   "execution_count": 607,
   "id": "dd7e898c",
   "metadata": {},
   "outputs": [],
   "source": [
    "# Imports\n",
    "import scipy\n",
    "from scipy.signal import windows, welch\n",
    "from scipy.signal.windows import dpss\n",
    "from scipy.fft import fft, fftfreq\n",
    "import numpy as np\n",
    "import math\n",
    "import matplotlib.pyplot as plt\n",
    "from spectral_decomposition import spectrum\n",
    "import scipy.stats as stats\n",
    "import statsmodels.api as sm\n",
    "import pandas as pd\n",
    "import seaborn as sns"
   ]
  },
  {
   "cell_type": "markdown",
   "id": "d0111ffd",
   "metadata": {},
   "source": [
    "# Generating Data"
   ]
  },
  {
   "cell_type": "code",
   "execution_count": 608,
   "id": "007dffbb",
   "metadata": {},
   "outputs": [],
   "source": [
    "def generate_data(random_state = 42):\n",
    "    data = spectrum(\n",
    "        sampling_rate=1000,\n",
    "        duration=30,\n",
    "        aperiodic_exponent=2.0,\n",
    "        aperiodic_offset=2.0,\n",
    "        knee=200,\n",
    "        peaks=[{'freq':12, 'amplitude': 1.0, 'sigma': 2.0}],\n",
    "        average_firing_rate=0.0,\n",
    "        random_state=random_state,\n",
    "        direct_estimate=True\n",
    "    )\n",
    "    return data\n",
    "\n",
    "data = generate_data()\n",
    "data_td = data.time_domain.combined_signal\n",
    "data_fd = data.frequency_domain"
   ]
  },
  {
   "cell_type": "markdown",
   "id": "b7200813",
   "metadata": {},
   "source": [
    "# Single Taper (Welch)"
   ]
  },
  {
   "cell_type": "code",
   "execution_count": 609,
   "id": "7ed98391",
   "metadata": {},
   "outputs": [],
   "source": [
    "def single_taper_welch(signal, window_length, taper_shape, fs=1000):\n",
    "    \"\"\"\n",
    "    Args: \n",
    "    - signal: signal, time domain \n",
    "    - window_length: in seconds\n",
    "    - taper_shape: string, desired taper\n",
    "    - fs: sampling frequency, default = 1000\n",
    "\n",
    "    Returns:\n",
    "    - freqs: positive frequencies\n",
    "    - psd: estimated power spectral density for positive frequencies (doubled)\n",
    "    \"\"\"\n",
    "    nperseg = int(window_length * fs) # number of samples per segment\n",
    "\n",
    "    freqs, psd = welch(signal,\n",
    "                       fs=fs,\n",
    "                       window=taper_shape,\n",
    "                       nperseg=nperseg,\n",
    "                       noverlap=0,\n",
    "                       scaling='density' # return psd\n",
    "                       )\n",
    "\n",
    "    return freqs, psd"
   ]
  },
  {
   "cell_type": "markdown",
   "id": "fda5c4d9",
   "metadata": {},
   "source": [
    "# Single Taper (No Welch)"
   ]
  },
  {
   "cell_type": "code",
   "execution_count": 610,
   "id": "37601797",
   "metadata": {},
   "outputs": [],
   "source": [
    "def u_scaling(fft_result, taper, N): # https://www.mathworks.com/help/signal/ug/nonparametric-methods.html#f12-16152 \n",
    "    # Scale the FFT results for single taper\n",
    "    U = 1/N * sum(i**2 for i in taper)\n",
    "    scaled_fft_single = [i/U for i in (fft_result)]\n",
    "    return scaled_fft_single\n",
    "\n",
    "def single_taper_no_welch(signal, window_length, taper_shape, fs=1000):\n",
    "    \"\"\"\n",
    "    Args: \n",
    "    - signal: signal, time domain \n",
    "    - window_length: in seconds\n",
    "    - taper_shape: string, desired taper\n",
    "    - fs: sampling frequency, default = 1000\n",
    "\n",
    "    Returns:\n",
    "    - freqs: positive frequencies\n",
    "    - psd: estimated power spectral density for positive frequencies (doubled)\n",
    "    \"\"\"\n",
    "    N = int(window_length * fs)  # number of samples in window\n",
    "    signal = signal[-N:] # last window segment of signal\n",
    "    tapered_signal = signal * windows.get_window(taper_shape, N)\n",
    "    freqs = np.fft.rfftfreq(N, d=1/fs) # starting from 1 to avoid a divide by 0 error later.\n",
    "    psd = ((np.abs(np.fft.rfft(tapered_signal)))**2) / (fs*N)\n",
    "    psd[1:] *= 2\n",
    "    if freqs[-1] == fs / 2:\n",
    "        freqs = freqs[:-1]\n",
    "        psd = psd[:-1]\n",
    "    return freqs, u_scaling(psd, windows.get_window(taper_shape, N), N)\n"
   ]
  },
  {
   "cell_type": "markdown",
   "id": "fd269280",
   "metadata": {},
   "source": [
    "# Multitaper"
   ]
  },
  {
   "cell_type": "code",
   "execution_count": 611,
   "id": "823180c3",
   "metadata": {},
   "outputs": [],
   "source": [
    "def multitaper(signal, window_length, fs=1000, TW=1, K=1): # only TW and Window length\n",
    "    \"\"\"\n",
    "    Args: \n",
    "    - signal: time domain \n",
    "    - window_length: size of window (in s)\n",
    "    - fs: sampling frequency, default = 1000\n",
    "    - TW: time bandwidth, default = 1\n",
    "    - K: number of tapers, default = 1\n",
    "\n",
    "    Returns:\n",
    "    - freqs: positive frequencies\n",
    "    - psd: estimated power spectral density for positive frequencies (doubled)\n",
    "    \"\"\"\n",
    "\n",
    "    N = int(window_length * fs)  # number of samples in window\n",
    "    signal = signal[-N:] # first window segment of signal\n",
    "\n",
    "    # default to 2*NW - 1 tapers\n",
    "    K =  int(2 * TW - 1)\n",
    "\n",
    "    # create dpss tapers\n",
    "    tapers = dpss(N, TW, K)  # shape: (K, N)\n",
    "\n",
    "    # Apply each taper to the signals\n",
    "    # tapered_signals = np.zeros(len(tapers))  # shape: (K, N)\n",
    "    # for i, taper in enumerate(tapers):\n",
    "    #     fourier_coefficients = np.fft.fft(signal*taper)\n",
    "    #     tapered_signals[i] = (fourier_coefficients * fourier_coefficients.conjugate()).real() \n",
    "\n",
    "    tapered_signals = np.array(\n",
    "        [np.abs(np.fft.rfft(signal * taper)) ** 2 / (fs * N) for taper in tapers] \n",
    "    )# Convert to power  1 / (fs * N) * |FFT|^2 and divide by Welch normalization factor U = 1/L * Σ w(n)^2\n",
    "    fft_sum = np.zeros_like(tapered_signals[0])  # Initialize sum of FFTs\n",
    "    for i, taper in enumerate(tapers):\n",
    "        fft_sum += u_scaling(tapered_signals[i], taper, N)\n",
    "        \n",
    "    psd = fft_sum / K  # Average PSD\n",
    "    psd[1:] *= 2\n",
    "    freqs = np.fft.rfftfreq(N, d=1/fs)\n",
    "\n",
    "    if freqs[-1] == fs / 2:\n",
    "        freqs = freqs[:-1]\n",
    "        psd = psd[:-1]\n",
    "\n",
    "    return freqs, psd"
   ]
  },
  {
   "cell_type": "markdown",
   "id": "aa362c20",
   "metadata": {},
   "source": [
    "# Multitaper Package"
   ]
  },
  {
   "cell_type": "code",
   "execution_count": 612,
   "id": "51f46e6f",
   "metadata": {},
   "outputs": [],
   "source": [
    "from spectral_connectivity import Multitaper, Connectivity \n",
    "\n",
    "def multitaper_package_implementation(signal, window_length, TW = 1, K = None, fs=1000):\n",
    "    N = int(fs * window_length)\n",
    "    x = signal[-N:] # obtain last chunk\n",
    "    K = 1 #K or int(2 * TW - 1)  # default to 2*TW - 1 tapers if K is not specified\n",
    "    mt = Multitaper(time_series = x, sampling_frequency = fs, time_halfbandwidth_product=TW, n_tapers = K)\n",
    "    connectivity = Connectivity.from_multitaper(mt, expectation_type='tapers')\n",
    "    freqs = connectivity.frequencies # dim:(250,)\n",
    "    power = connectivity.power().reshape(N//2,)\n",
    "    return freqs, power"
   ]
  },
  {
   "cell_type": "markdown",
   "id": "5b7aefa0",
   "metadata": {},
   "source": [
    "# Example Run / Tangible Scaling Visualization Plot"
   ]
  },
  {
   "cell_type": "code",
   "execution_count": 613,
   "id": "3aa8b18b",
   "metadata": {},
   "outputs": [
    {
     "data": {
      "image/png": "[encoded data removed]",
      "text/plain": [
       "<Figure size 640x480 with 1 Axes>"
      ]
     },
     "metadata": {},
     "output_type": "display_data"
    }
   ],
   "source": [
    "window_length = 0.05 # change window length\n",
    "\n",
    "freq_hann, psd_hann = single_taper_no_welch(data_td, window_length=window_length, taper_shape='hann')\n",
    "freq_hamming, psd_hamming = single_taper_no_welch(data_td, window_length=window_length, taper_shape='hamming')\n",
    "freq_mt, psd_mt = multitaper(data_td, window_length=window_length, TW=4)\n",
    "freq_mt_package, psd_mt_package = multitaper_package_implementation(data_td, window_length=window_length, TW=4)\n",
    "\n",
    "\n",
    "#plt.loglog(freq_hann, psd_hann, linewidth=1, alpha=0.7, label='hann')\n",
    "#plt.loglog(freq_hamming, psd_hamming, linewidth=1, alpha=0.7, label='hamming')\n",
    "plt.loglog(freq_mt, psd_mt, linewidth=1, alpha=0.7, label='multitaper (scaled)')\n",
    "plt.loglog(freq_mt_package, psd_mt_package, linewidth=1, alpha=0.7, label='multitaper (scaled, package)')\n",
    "plt.plot(data_fd.frequencies, data_fd.combined_spectrum, linewidth=1, alpha=0.7, label='theoretical')\n",
    "\n",
    "plt.axvline(x=12, color='gray', linestyle=':', linewidth=1.5)\n",
    "plt.text(13, 0.01,'12 Hz')\n",
    "\n",
    "plt.xlabel('Frequency (Hz)')\n",
    "plt.ylabel('Power Spectral Density')\n",
    "plt.legend()\n",
    "plt.show()"
   ]
  },
  {
   "cell_type": "markdown",
   "id": "a84b7d7b",
   "metadata": {},
   "source": [
    "# Bias"
   ]
  },
  {
   "cell_type": "code",
   "execution_count": 614,
   "id": "f54ca5cb",
   "metadata": {},
   "outputs": [],
   "source": [
    "# Calculate Bias\n",
    "\n",
    "def calc_mean_bias(empiricalPSD, theoreticalPSD):\n",
    "    N = len(theoreticalPSD)\n",
    "    empiricalPSD = empiricalPSD[:-1] if (len(empiricalPSD) > N) else empiricalPSD\n",
    "    biases = np.abs(empiricalPSD - theoreticalPSD) # do we need to change this cuz the empirical length is 251 while theoretical length is 250\n",
    "    meanBias = np.sum(biases)/N\n",
    "\n",
    "    return meanBias"
   ]
  },
  {
   "cell_type": "code",
   "execution_count": 615,
   "id": "860fd287",
   "metadata": {},
   "outputs": [],
   "source": [
    "def get_correct_theoretical_window(psd_theoretical_fd, freq_theoretical_fd, freq_empirical):\n",
    "    \"\"\"\n",
    "    Interpolates theoretical PSD onto empirical frequency axis.\n",
    "    \"\"\"\n",
    "    from scipy.interpolate import interp1d\n",
    "    interpolator = interp1d(freq_theoretical_fd, psd_theoretical_fd, bounds_error=False, fill_value=np.nan)\n",
    "    return interpolator(freq_empirical)"
   ]
  },
  {
   "cell_type": "code",
   "execution_count": 616,
   "id": "1da73155",
   "metadata": {},
   "outputs": [],
   "source": [
    "def calculate_biases(df, window_length, TW, data):\n",
    "    for random_state in range(200): # generate data multiple times\n",
    "        data = generate_data(random_state=random_state)\n",
    "        data_td = data.time_domain.combined_signal\n",
    "        data_fd = data.frequency_domain\n",
    "        freq_hann, psd_hann = single_taper_no_welch(data_td, window_length=window_length, taper_shape='hann')\n",
    "        freq_hamming, psd_hamming = single_taper_no_welch(data_td, window_length=window_length, taper_shape='hamming')\n",
    "        freq_mt, psd_mt = multitaper(data_td, window_length=window_length, TW=TW)\n",
    "\n",
    "        psd_theoretical_correct_window = get_correct_theoretical_window(data_fd.combined_spectrum, data_fd.frequencies, freq_hamming)\n",
    "        psd_theoretical_correct_window_mt = get_correct_theoretical_window(data_fd.combined_spectrum, data_fd.frequencies, freq_mt)\n",
    "        \n",
    "\n",
    "        df.loc[len(df)] = [window_length,\n",
    "                        TW,\n",
    "                        calc_mean_bias(psd_hamming, psd_theoretical_correct_window),\n",
    "                        calc_mean_bias(psd_hann, psd_theoretical_correct_window), \n",
    "                        calc_mean_bias(psd_mt, psd_theoretical_correct_window_mt)]\n",
    "    return df\n",
    "\n",
    "df = pd.DataFrame(columns=['window', 'TW', 'hamming_mean_bias', 'hann_mean_bias', 'multitaper_mean_bias'])\n",
    "df = calculate_biases(df=df, window_length=0.01, TW=4, data=data)\n",
    "df = calculate_biases(df=df, window_length=0.01, TW=1, data=data)\n",
    "df = calculate_biases(df=df, window_length=0.05, TW=4, data=data)\n",
    "df = calculate_biases(df=df, window_length=0.05, TW=1, data=data)\n",
    "df = calculate_biases(df=df, window_length=0.1, TW=1, data=data)\n",
    "df = calculate_biases(df=df, window_length=0.5, TW=1, data=data)\n",
    "df = calculate_biases(df=df, window_length=0.1, TW=4, data=data)\n",
    "df = calculate_biases(df=df, window_length=0.5, TW=4, data=data)"
   ]
  },
  {
   "cell_type": "code",
   "execution_count": 617,
   "id": "02e2759f",
   "metadata": {},
   "outputs": [],
   "source": [
    "df.to_csv('taper_comparisons.csv', index=False)"
   ]
  }
 ],
 "metadata": {
  "kernelspec": {
   "display_name": "spectral-decomposition",
   "language": "python",
   "name": "python3"
  },
  "language_info": {
   "codemirror_mode": {
    "name": "ipython",
    "version": 3
   },
   "file_extension": ".py",
   "mimetype": "text/x-python",
   "name": "python",
   "nbconvert_exporter": "python",
   "pygments_lexer": "ipython3",
   "version": "3.13.5"
  }
 },
 "nbformat": 4,
 "nbformat_minor": 5
}
