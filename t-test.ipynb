{
 "cells": [
  {
   "cell_type": "code",
   "execution_count": 10,
   "id": "592698f2",
   "metadata": {},
   "outputs": [],
   "source": [
    "import pandas as pd\n",
    "from scipy import stats\n",
    "import numpy as np\n",
    "import matplotlib.pyplot as plt\n",
    "from scipy.signal import periodogram\n",
    "from spectral_connectivity import Multitaper, Connectivity\n",
    "from spectral_decomposition import spectrum"
   ]
  },
  {
   "cell_type": "code",
   "execution_count": 14,
   "id": "c337b737",
   "metadata": {},
   "outputs": [
    {
     "name": "stdout",
     "output_type": "stream",
     "text": [
      "0.1\n",
      "12\n",
      "t-statistic: 72.88238032651337\n",
      "p-value: 0.0\n",
      "Reject H0: Significant difference between the means\n",
      "\n",
      "30\n",
      "t-statistic: -142.60168768562733\n",
      "p-value: 0.0\n",
      "Reject H0: Significant difference between the means\n",
      "\n",
      "50\n",
      "t-statistic: -26.996074805282113\n",
      "p-value: 1.3945988855551308e-156\n",
      "Reject H0: Significant difference between the means\n",
      "\n",
      "80\n",
      "t-statistic: -7.1476694449108935\n",
      "p-value: 9.28457897318568e-13\n",
      "Reject H0: Significant difference between the means\n",
      "\n",
      "0.2\n",
      "12\n",
      "t-statistic: 88.68515566774731\n",
      "p-value: 0.0\n",
      "Reject H0: Significant difference between the means\n",
      "\n",
      "30\n",
      "t-statistic: -55.89783950639085\n",
      "p-value: 0.0\n",
      "Reject H0: Significant difference between the means\n",
      "\n",
      "50\n",
      "t-statistic: 2.774719810723049\n",
      "p-value: 0.005532745473903572\n",
      "Reject H0: Significant difference between the means\n",
      "\n",
      "80\n",
      "t-statistic: 5.37915296237134\n",
      "p-value: 7.614571336529646e-08\n",
      "Reject H0: Significant difference between the means\n",
      "\n",
      "0.5\n",
      "12\n",
      "t-statistic: 60.92323905914852\n",
      "p-value: 0.0\n",
      "Reject H0: Significant difference between the means\n",
      "\n",
      "30\n",
      "t-statistic: 8.52332528291111\n",
      "p-value: 1.722392979324264e-17\n",
      "Reject H0: Significant difference between the means\n",
      "\n",
      "50\n",
      "t-statistic: 11.952571084125466\n",
      "p-value: 9.426694637746847e-33\n",
      "Reject H0: Significant difference between the means\n",
      "\n",
      "80\n",
      "t-statistic: 11.581235222969305\n",
      "p-value: 7.354332796057224e-31\n",
      "Reject H0: Significant difference between the means\n",
      "\n",
      "1.0\n",
      "12\n",
      "t-statistic: 33.53405272164296\n",
      "p-value: 2.280246136679492e-236\n",
      "Reject H0: Significant difference between the means\n",
      "\n",
      "30\n",
      "t-statistic: 13.358906608944299\n",
      "p-value: 1.9769577093677598e-40\n",
      "Reject H0: Significant difference between the means\n",
      "\n",
      "50\n",
      "t-statistic: 13.466506544092919\n",
      "p-value: 4.73912945888809e-41\n",
      "Reject H0: Significant difference between the means\n",
      "\n",
      "80\n",
      "t-statistic: 12.377351554923017\n",
      "p-value: 5.554946199493216e-35\n",
      "Reject H0: Significant difference between the means\n",
      "\n"
     ]
    }
   ],
   "source": [
    "fs        = 1000.0\n",
    "durations = [0.1, 0.2, 0.5, 1.0]   # s\n",
    "TW        = 3.0\n",
    "K         = int(2*TW - 1)\n",
    "freqs_of_interest = [12, 30, 50, 80]  # Hz\n",
    "pval_df = pd.DataFrame(index=durations, columns=freqs_of_interest)\n",
    "\n",
    "for duration in durations:\n",
    "    print(duration)\n",
    "    df_hann_01 = pd.read_csv(f\"./data/bias_hann_db {duration}s.csv\")\n",
    "    df_mt_01 = pd.read_csv(f\"./data/bias_mt_db {duration}s.csv\")\n",
    "\n",
    "    N = int(fs * duration)\n",
    "    f_hann, _ = periodogram(np.zeros(N), fs=fs, window='hann',   nfft=N, scaling='density')\n",
    "    #f_hamm, _ = periodogram(np.zeros(N), fs=fs, window='hamming', nfft=N, scaling='density')\n",
    "    f_mt      = Connectivity.from_multitaper(\n",
    "                    Multitaper(np.zeros(N), sampling_frequency=fs,\n",
    "                                time_halfbandwidth_product=TW, n_tapers=K)\n",
    "                ).frequencies\n",
    "    \n",
    "    target_freqs = [12, 30, 50, 80]\n",
    "    \n",
    "    idx_hann = [np.argmin(np.abs(f_hann - f)) for f in target_freqs]\n",
    "    #idx_hamm = [np.argmin(np.abs(f_hamm - f)) for f in target_freqs]\n",
    "    idx_mt   = [np.argmin(np.abs(f_mt   - f)) for f in target_freqs]\n",
    "    \n",
    "    \n",
    "\n",
    "    for idx_h, idx_m, freq in zip(idx_hann, idx_mt, target_freqs):\n",
    "        print(freq)\n",
    "        hann_bias = df_hann_01[f'Freq_{idx_h}']\n",
    "        mt_bias = df_mt_01[f'Freq_{idx_m}']\n",
    "\n",
    "        t_stat, p_value = stats.ttest_ind(hann_bias, mt_bias, equal_var=False)\n",
    "        pval_df.loc[duration, freq] = p_value\n",
    "\n",
    "\n",
    "        print(\"t-statistic:\", t_stat)\n",
    "        print(\"p-value:\", p_value)\n",
    "\n",
    "        alpha = 0.05\n",
    "        if p_value < alpha:\n",
    "            print(\"Reject H0: Significant difference between the means\")\n",
    "        else:\n",
    "            print(\"Fail to reject H0: No significant difference\")\n",
    "        print()"
   ]
  },
  {
   "cell_type": "code",
   "execution_count": 15,
   "id": "f87c8a80",
   "metadata": {},
   "outputs": [
    {
     "data": {
      "text/html": [
       "<div>\n",
       "<style scoped>\n",
       "    .dataframe tbody tr th:only-of-type {\n",
       "        vertical-align: middle;\n",
       "    }\n",
       "\n",
       "    .dataframe tbody tr th {\n",
       "        vertical-align: top;\n",
       "    }\n",
       "\n",
       "    .dataframe thead th {\n",
       "        text-align: right;\n",
       "    }\n",
       "</style>\n",
       "<table border=\"1\" class=\"dataframe\">\n",
       "  <thead>\n",
       "    <tr style=\"text-align: right;\">\n",
       "      <th></th>\n",
       "      <th>12</th>\n",
       "      <th>30</th>\n",
       "      <th>50</th>\n",
       "      <th>80</th>\n",
       "    </tr>\n",
       "  </thead>\n",
       "  <tbody>\n",
       "    <tr>\n",
       "      <th>0.1</th>\n",
       "      <td>0.0</td>\n",
       "      <td>0.0</td>\n",
       "      <td>0.0</td>\n",
       "      <td>0.0</td>\n",
       "    </tr>\n",
       "    <tr>\n",
       "      <th>0.2</th>\n",
       "      <td>0.0</td>\n",
       "      <td>0.0</td>\n",
       "      <td>0.005533</td>\n",
       "      <td>0.0</td>\n",
       "    </tr>\n",
       "    <tr>\n",
       "      <th>0.5</th>\n",
       "      <td>0.0</td>\n",
       "      <td>0.0</td>\n",
       "      <td>0.0</td>\n",
       "      <td>0.0</td>\n",
       "    </tr>\n",
       "    <tr>\n",
       "      <th>1.0</th>\n",
       "      <td>0.0</td>\n",
       "      <td>0.0</td>\n",
       "      <td>0.0</td>\n",
       "      <td>0.0</td>\n",
       "    </tr>\n",
       "  </tbody>\n",
       "</table>\n",
       "</div>"
      ],
      "text/plain": [
       "      12   30        50   80\n",
       "0.1  0.0  0.0       0.0  0.0\n",
       "0.2  0.0  0.0  0.005533  0.0\n",
       "0.5  0.0  0.0       0.0  0.0\n",
       "1.0  0.0  0.0       0.0  0.0"
      ]
     },
     "execution_count": 15,
     "metadata": {},
     "output_type": "execute_result"
    }
   ],
   "source": [
    "pval_df.head()"
   ]
  },
  {
   "cell_type": "code",
   "execution_count": null,
   "id": "20c006cf",
   "metadata": {},
   "outputs": [
    {
     "name": "stdout",
     "output_type": "stream",
     "text": [
      "6.48408957738217e-17\n"
     ]
    }
   ],
   "source": [
    "t_stat, p_value = stats.ttest_ind(df_hann_01[\"Freq_1\"], df_hann_01[\"Freq_2\"], equal_var=False)\n",
    "\n",
    "print(p_value)"
   ]
  },
  {
   "cell_type": "code",
   "execution_count": 19,
   "id": "26baed54",
   "metadata": {},
   "outputs": [
    {
     "data": {
      "image/png": "[encoded data removed]",
      "text/plain": [
       "<Figure size 640x480 with 1 Axes>"
      ]
     },
     "metadata": {},
     "output_type": "display_data"
    }
   ],
   "source": [
    "plt.plot(df_hann_01[\"Freq_1\"])\n",
    "plt.plot(df_hann_01[\"Freq_2\"])\n",
    "plt.show()\n"
   ]
  }
 ],
 "metadata": {
  "kernelspec": {
   "display_name": "spectral-decomposition",
   "language": "python",
   "name": "python3"
  },
  "language_info": {
   "codemirror_mode": {
    "name": "ipython",
    "version": 3
   },
   "file_extension": ".py",
   "mimetype": "text/x-python",
   "name": "python",
   "nbconvert_exporter": "python",
   "pygments_lexer": "ipython3",
   "version": "3.13.5"
  }
 },
 "nbformat": 4,
 "nbformat_minor": 5
}
